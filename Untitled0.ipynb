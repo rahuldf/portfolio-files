{
  "nbformat": 4,
  "nbformat_minor": 0,
  "metadata": {
    "colab": {
      "name": "Untitled0.ipynb",
      "provenance": [],
      "collapsed_sections": []
    },
    "kernelspec": {
      "name": "python3",
      "display_name": "Python 3"
    },
    "language_info": {
      "name": "python"
    }
  },
  "cells": [
    {
      "cell_type": "code",
      "metadata": {
        "colab": {
          "base_uri": "https://localhost:8080/"
        },
        "id": "CEXtxIi0H1VI",
        "outputId": "4d7977f8-b09d-465f-ccdc-aaeb6fbf154e"
      },
      "source": [
        "import sqlite3\n",
        "\n",
        "con = sqlite3.connect(\":memory:\")\n",
        "cur = con.cursor()\n",
        "cur.execute(\"create table lang (name, first_appeared)\")\n",
        "\n",
        "# This is the qmark style:\n",
        "cur.execute(\"insert into lang values (?, ?)\", (\"C\", 1972))\n",
        "\n",
        "# The qmark style used with executemany():\n",
        "lang_list = [\n",
        "    (\"Fortran\", 1957),\n",
        "    (\"Python\", 1991),\n",
        "    (\"Go\", 2009),\n",
        "]\n",
        "cur.executemany(\"insert into lang values (?, ?)\", lang_list)\n",
        "\n",
        "# And this is the named style:\n",
        "cur.execute(\"select * from lang\")\n",
        "print(cur.fetchall())\n",
        "\n",
        "con.close()"
      ],
      "execution_count": 24,
      "outputs": [
        {
          "output_type": "stream",
          "name": "stdout",
          "text": [
            "[('C', 1972), ('Fortran', 1957), ('Python', 1991), ('Go', 2009)]\n"
          ]
        }
      ]
    },
    {
      "cell_type": "code",
      "metadata": {
        "colab": {
          "base_uri": "https://localhost:8080/"
        },
        "id": "zyiM4brkJdYk",
        "outputId": "618c254c-5aa6-4143-b896-1d533ff4b10a"
      },
      "source": [
        "con = sqlite3.connect('example.db')\n",
        "cur = con.cursor()\n",
        "cur.execute(\"select * from stocks\")\n",
        "print(cur.fetchall())\n",
        "con.close()"
      ],
      "execution_count": 29,
      "outputs": [
        {
          "output_type": "stream",
          "name": "stdout",
          "text": [
            "[('2006-01-05', 'BUY', 'RHAT', 100.0, 35.14)]\n"
          ]
        }
      ]
    },
    {
      "cell_type": "code",
      "metadata": {
        "id": "8aAF1nJFJs4v"
      },
      "source": [
        ""
      ],
      "execution_count": null,
      "outputs": []
    }
  ]
}